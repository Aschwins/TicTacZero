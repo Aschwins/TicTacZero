{
 "cells": [
  {
   "cell_type": "code",
   "execution_count": 1,
   "metadata": {},
   "outputs": [],
   "source": [
    "import numpy as np\n",
    "from tictaczero.board import Board\n",
    "from tictaczero.player import BasePlayer\n",
    "\n",
    "%load_ext autoreload\n",
    "%autoreload 2\n",
    "\n",
    "EMPTY = 0\n",
    "CROSS = 1\n",
    "CIRCLE = 2"
   ]
  },
  {
   "cell_type": "code",
   "execution_count": 2,
   "metadata": {},
   "outputs": [],
   "source": [
    "class RandomPlayer(BasePlayer):\n",
    "    \"\"\"\n",
    "    A RandomPlayer of a tic tac toe game.\n",
    "    side: in [1, 2]\n",
    "    board: Boardobject\n",
    "    \"\"\"\n",
    "    def __init__(self, *args, **kwargs):\n",
    "        super().__init__(*args, **kwargs)\n",
    "    \n",
    "    def move(self, board):\n",
    "        _, res, finished = board.move(board.random_empty_square(), self.side)\n",
    "        return _, res, finished"
   ]
  },
  {
   "cell_type": "code",
   "execution_count": 26,
   "metadata": {},
   "outputs": [
    {
     "name": "stdout",
     "output_type": "stream",
     "text": [
      "Draw\n",
      "Game won by: 3\n",
      "-----\n",
      "|XOX|\n",
      "|OOX|\n",
      "|XXO|\n",
      "-----\n"
     ]
    }
   ],
   "source": [
    "board = Board(3)\n",
    "rp1 = RandomPlayer(side = CROSS)\n",
    "rp2 = RandomPlayer(side = CIRCLE)\n",
    "\n",
    "ongoing = True\n",
    "\n",
    "while ongoing:\n",
    "    _, winner, game_ended = rp1.move(board)\n",
    "    if game_ended:\n",
    "        print(f\"Game won by: {winner}\")\n",
    "        break\n",
    "    _, winner, game_ended = rp2.move(board)\n",
    "    if game_ended:\n",
    "        print(f\"Game won by: {winner}\")\n",
    "        break\n",
    "        \n",
    "board.print_board()"
   ]
  },
  {
   "cell_type": "code",
   "execution_count": null,
   "metadata": {},
   "outputs": [],
   "source": []
  },
  {
   "cell_type": "code",
   "execution_count": 73,
   "metadata": {},
   "outputs": [],
   "source": [
    "a = rp2.move(board)"
   ]
  },
  {
   "cell_type": "code",
   "execution_count": 66,
   "metadata": {},
   "outputs": [],
   "source": [
    "rp1.move(board)"
   ]
  },
  {
   "cell_type": "code",
   "execution_count": 74,
   "metadata": {},
   "outputs": [
    {
     "data": {
      "text/plain": [
       "array([0, 2, 0, 1, 0, 0, 0, 0, 0])"
      ]
     },
     "execution_count": 74,
     "metadata": {},
     "output_type": "execute_result"
    }
   ],
   "source": [
    "board.state"
   ]
  },
  {
   "cell_type": "code",
   "execution_count": 68,
   "metadata": {},
   "outputs": [
    {
     "ename": "NameError",
     "evalue": "name 'Player' is not defined",
     "output_type": "error",
     "traceback": [
      "\u001b[0;31m---------------------------------------------------------------------------\u001b[0m",
      "\u001b[0;31mNameError\u001b[0m                                 Traceback (most recent call last)",
      "\u001b[0;32m<ipython-input-68-2268cebac25c>\u001b[0m in \u001b[0;36m<module>\u001b[0;34m\u001b[0m\n\u001b[0;32m----> 1\u001b[0;31m \u001b[0;32mclass\u001b[0m \u001b[0mRandomPlayer\u001b[0m\u001b[0;34m(\u001b[0m\u001b[0mPlayer\u001b[0m\u001b[0;34m)\u001b[0m\u001b[0;34m:\u001b[0m\u001b[0;34m\u001b[0m\u001b[0;34m\u001b[0m\u001b[0m\n\u001b[0m\u001b[1;32m      2\u001b[0m     \"\"\"\n\u001b[1;32m      3\u001b[0m     \u001b[0mThis\u001b[0m \u001b[0mplayer\u001b[0m \u001b[0mcan\u001b[0m \u001b[0mplay\u001b[0m \u001b[0ma\u001b[0m \u001b[0mgame\u001b[0m \u001b[0mof\u001b[0m \u001b[0mTic\u001b[0m \u001b[0mTac\u001b[0m \u001b[0mToe\u001b[0m \u001b[0mby\u001b[0m \u001b[0mrandomly\u001b[0m \u001b[0mchoosing\u001b[0m \u001b[0ma\u001b[0m \u001b[0mfree\u001b[0m \u001b[0mspot\u001b[0m \u001b[0mon\u001b[0m \u001b[0mthe\u001b[0m \u001b[0mboard\u001b[0m\u001b[0;34m.\u001b[0m\u001b[0;34m\u001b[0m\u001b[0;34m\u001b[0m\u001b[0m\n\u001b[1;32m      4\u001b[0m     \u001b[0mIt\u001b[0m \u001b[0mdoes\u001b[0m \u001b[0;32mnot\u001b[0m \u001b[0mlearn\u001b[0m \u001b[0;32mor\u001b[0m \u001b[0mget\u001b[0m \u001b[0mbetter\u001b[0m\u001b[0;34m.\u001b[0m\u001b[0;34m\u001b[0m\u001b[0;34m\u001b[0m\u001b[0m\n\u001b[1;32m      5\u001b[0m     \"\"\"\n",
      "\u001b[0;31mNameError\u001b[0m: name 'Player' is not defined"
     ]
    }
   ],
   "source": [
    "class RandomPlayer(Player):\n",
    "    \"\"\"\n",
    "    This player can play a game of Tic Tac Toe by randomly choosing a free spot on the board.\n",
    "    It does not learn or get better.\n",
    "    \"\"\"\n",
    "\n",
    "    def __init__(self):\n",
    "        \"\"\"\n",
    "        Getting ready for playing tic tac toe.\n",
    "        \"\"\"\n",
    "        self.side = None\n",
    "        super().__init__()\n",
    "\n",
    "    def move(self, board: Board) -> (GameResult, bool):\n",
    "        \"\"\"\n",
    "        Making a random move\n",
    "        :param board: The board to make a move on\n",
    "        :return: The result of the move\n",
    "        \"\"\"\n",
    "        _, res, finished = board.move(board.random_empty_spot(), self.side)\n",
    "        return res, finished\n",
    "\n",
    "    def final_result(self, result: GameResult):\n",
    "        \"\"\"\n",
    "        Does nothing.\n",
    "        :param result: The result of the game that just finished\n",
    "        :return:\n",
    "        \"\"\"\n",
    "        pass\n",
    "\n",
    "    def new_game(self, side: int):\n",
    "        \"\"\"\n",
    "        Setting the side for the game to come. Noting else to do.\n",
    "        :param side: The side this player will be playing\n",
    "        \"\"\"\n",
    "        self.side = side"
   ]
  },
  {
   "cell_type": "code",
   "execution_count": null,
   "metadata": {},
   "outputs": [],
   "source": []
  }
 ],
 "metadata": {
  "kernelspec": {
   "display_name": "Python 3",
   "language": "python",
   "name": "python3"
  },
  "language_info": {
   "codemirror_mode": {
    "name": "ipython",
    "version": 3
   },
   "file_extension": ".py",
   "mimetype": "text/x-python",
   "name": "python",
   "nbconvert_exporter": "python",
   "pygments_lexer": "ipython3",
   "version": "3.7.4"
  }
 },
 "nbformat": 4,
 "nbformat_minor": 4
}
