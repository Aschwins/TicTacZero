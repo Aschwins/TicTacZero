{
 "cells": [
  {
   "cell_type": "code",
   "execution_count": 27,
   "metadata": {},
   "outputs": [
    {
     "name": "stdout",
     "output_type": "stream",
     "text": [
      "The autoreload extension is already loaded. To reload it, use:\n",
      "  %reload_ext autoreload\n"
     ]
    }
   ],
   "source": [
    "import numpy as np\n",
    "from tictaczero.board import Board\n",
    "from tictaczero.player import BasePlayer, RandomPlayer\n",
    "\n",
    "%load_ext autoreload\n",
    "%autoreload 2\n",
    "\n",
    "EMPTY = 0\n",
    "CROSS = 1\n",
    "CIRCLE = 2"
   ]
  },
  {
   "cell_type": "code",
   "execution_count": 28,
   "metadata": {},
   "outputs": [
    {
     "name": "stdout",
     "output_type": "stream",
     "text": [
      "Game ended, someone won.\n",
      "Game won by: 1\n",
      "-----\n",
      "|XXO|\n",
      "|XXO|\n",
      "|OOX|\n",
      "-----\n"
     ]
    }
   ],
   "source": [
    "board = Board(3)\n",
    "rp1 = RandomPlayer(side = CROSS)\n",
    "rp2 = RandomPlayer(side = CIRCLE)\n",
    "\n",
    "ongoing = True\n",
    "\n",
    "while ongoing:\n",
    "    _, winner, game_ended = rp1.move(board)\n",
    "    if game_ended:\n",
    "        print(f\"Game won by: {winner}\")\n",
    "        break\n",
    "    _, winner, game_ended = rp2.move(board)\n",
    "    if game_ended:\n",
    "        print(f\"Game won by: {winner}\")\n",
    "        break\n",
    "        \n",
    "board.print_board()"
   ]
  },
  {
   "cell_type": "code",
   "execution_count": null,
   "metadata": {},
   "outputs": [],
   "source": []
  }
 ],
 "metadata": {
  "kernelspec": {
   "display_name": "Python 3",
   "language": "python",
   "name": "python3"
  },
  "language_info": {
   "codemirror_mode": {
    "name": "ipython",
    "version": 3
   },
   "file_extension": ".py",
   "mimetype": "text/x-python",
   "name": "python",
   "nbconvert_exporter": "python",
   "pygments_lexer": "ipython3",
   "version": "3.7.4"
  }
 },
 "nbformat": 4,
 "nbformat_minor": 4
}
